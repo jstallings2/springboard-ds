{
 "cells": [
  {
   "cell_type": "markdown",
   "metadata": {},
   "source": [
    "This exercise will require you to pull some data from the Qunadl API. Qaundl is currently the most widely used aggregator of financial market data."
   ]
  },
  {
   "cell_type": "markdown",
   "metadata": {},
   "source": [
    "As a first step, you will need to register a free account on the http://www.quandl.com website."
   ]
  },
  {
   "cell_type": "markdown",
   "metadata": {},
   "source": [
    "After you register, you will be provided with a unique API key, that you should store:"
   ]
  },
  {
   "cell_type": "code",
   "execution_count": 2,
   "metadata": {
    "collapsed": true
   },
   "outputs": [],
   "source": [
    "# Store the API key as a string - according to PEP8, constants are always named in all upper case\n",
    "API_KEY = ''"
   ]
  },
  {
   "cell_type": "markdown",
   "metadata": {},
   "source": [
    "Qaundl has a large number of data sources, but, unfortunately, most of them require a Premium subscription. Still, there are also a good number of free datasets."
   ]
  },
  {
   "cell_type": "markdown",
   "metadata": {},
   "source": [
    "For this mini project, we will focus on equities data from the Frankfurt Stock Exhange (FSE), which is available for free. We'll try and analyze the stock prices of a company called Carl Zeiss Meditec, which manufactures tools for eye examinations, as well as medical lasers for laser eye surgery: https://www.zeiss.com/meditec/int/home.html. The company is listed under the stock ticker AFX_X."
   ]
  },
  {
   "cell_type": "markdown",
   "metadata": {},
   "source": [
    "You can find the detailed Quandl API instructions here: https://docs.quandl.com/docs/time-series"
   ]
  },
  {
   "cell_type": "markdown",
   "metadata": {},
   "source": [
    "While there is a dedicated Python package for connecting to the Quandl API, we would prefer that you use the *requests* package, which can be easily downloaded using *pip* or *conda*. You can find the documentation for the package here: http://docs.python-requests.org/en/master/ "
   ]
  },
  {
   "cell_type": "markdown",
   "metadata": {},
   "source": [
    "Finally, apart from the *requests* package, you are encouraged to not use any third party Python packages, such as *pandas*, and instead focus on what's available in the Python Standard Library (the *collections* module might come in handy: https://pymotw.com/3/collections/ ).\n",
    "Also, since you won't have access to DataFrames, you are encouraged to us Python's native data structures - preferably dictionaries, though some questions can also be answered using lists.\n",
    "You can read more on these data structures here: https://docs.python.org/3/tutorial/datastructures.html"
   ]
  },
  {
   "cell_type": "markdown",
   "metadata": {},
   "source": [
    "Keep in mind that the JSON responses you will be getting from the API map almost one-to-one to Python's dictionaries. Unfortunately, they can be very nested, so make sure you read up on indexing dictionaries in the documentation provided above."
   ]
  },
  {
   "cell_type": "code",
   "execution_count": 3,
   "metadata": {
    "collapsed": true
   },
   "outputs": [],
   "source": [
    "# First, import the relevant modules\n",
    "import requests\n",
    "import json\n",
    "from collections import defaultdict\n",
    "from datetime import datetime"
   ]
  },
  {
   "cell_type": "code",
   "execution_count": 4,
   "metadata": {
    "collapsed": true
   },
   "outputs": [],
   "source": [
    "# Now, call the Quandl API and pull out a small sample of the data (only one day) to get a glimpse\n",
    "# into the JSON structure that will be returned\n",
    "r = requests.get(\"https://www.quandl.com/api/v3/datasets/WIKI/FB/data.json?api_key=\" + API_KEY)"
   ]
  },
  {
   "cell_type": "code",
   "execution_count": 5,
   "metadata": {
    "collapsed": true
   },
   "outputs": [],
   "source": [
    "# Inspect the JSON structure of the object you created, and take note of how nested it is,\n",
    "# as well as the overall structure\n",
    "# r.json()"
   ]
  },
  {
   "cell_type": "markdown",
   "metadata": {},
   "source": [
    "These are your tasks for this mini project:\n",
    "\n",
    "1. Collect data from the Franfurt Stock Exchange, for the ticker AFX_X, for the whole year 2017 (keep in mind that the date format is YYYY-MM-DD).\n",
    "2. Convert the returned JSON object into a Python dictionary.\n",
    "3. Calculate what the highest and lowest opening prices were for the stock in this period.\n",
    "4. What was the largest change in any one day (based on High and Low price)?\n",
    "5. What was the largest change between any two days (based on Closing Price)?\n",
    "6. What was the average daily trading volume during this year?\n",
    "7. (Optional) What was the median trading volume during this year. (Note: you may need to implement your own function for calculating the median.)"
   ]
  },
  {
   "cell_type": "code",
   "execution_count": 6,
   "metadata": {
    "collapsed": true
   },
   "outputs": [],
   "source": [
    "# TASK 1\n",
    "r = requests.get('https://www.quandl.com/api/v3/datasets/FSE/AFX_X.json?start_date=2017-01-01&end_date=2017-12-31&api_key='+API_KEY)"
   ]
  },
  {
   "cell_type": "code",
   "execution_count": 7,
   "metadata": {},
   "outputs": [],
   "source": [
    "# TASK 2\n",
    "json_data = r.json()"
   ]
  },
  {
   "cell_type": "code",
   "execution_count": 8,
   "metadata": {},
   "outputs": [],
   "source": [
    "d = json_data['dataset']['data']\n",
    "headers = json_data['dataset']['column_names']"
   ]
  },
  {
   "cell_type": "code",
   "execution_count": 9,
   "metadata": {
    "tags": [
     "outputPrepend"
    ]
   },
   "outputs": [
    {
     "output_type": "stream",
     "name": "stdout",
     "text": [
      "st Price of the Day': None, 'Daily Traded Units': None, 'Daily Turnover': None}, datetime.datetime(2017, 4, 13, 0, 0): {'Date': '2017-04-13', 'Open': 42.06, 'High': 42.48, 'Low': 41.99, 'Close': 42.2, 'Change': None, 'Traded Volume': 88416.0, 'Turnover': 3734717.0, 'Last Price of the Day': None, 'Daily Traded Units': None, 'Daily Turnover': None}, datetime.datetime(2017, 4, 12, 0, 0): {'Date': '2017-04-12', 'Open': 42.02, 'High': 42.45, 'Low': 41.84, 'Close': 42.2, 'Change': None, 'Traded Volume': 158278.0, 'Turnover': 6672547.0, 'Last Price of the Day': None, 'Daily Traded Units': None, 'Daily Turnover': None}, datetime.datetime(2017, 4, 11, 0, 0): {'Date': '2017-04-11', 'Open': 41.62, 'High': 42.03, 'Low': 41.53, 'Close': 41.75, 'Change': None, 'Traded Volume': 107817.0, 'Turnover': 4501109.0, 'Last Price of the Day': None, 'Daily Traded Units': None, 'Daily Turnover': None}, datetime.datetime(2017, 4, 10, 0, 0): {'Date': '2017-04-10', 'Open': 41.46, 'High': 41.68, 'Low': 41.31, 'Close': 41.68, 'Change': None, 'Traded Volume': 62297.0, 'Turnover': 2585922.0, 'Last Price of the Day': None, 'Daily Traded Units': None, 'Daily Turnover': None}, datetime.datetime(2017, 4, 7, 0, 0): {'Date': '2017-04-07', 'Open': 40.9, 'High': 41.42, 'Low': 40.84, 'Close': 41.42, 'Change': None, 'Traded Volume': 81255.0, 'Turnover': 3344628.0, 'Last Price of the Day': None, 'Daily Traded Units': None, 'Daily Turnover': None}, datetime.datetime(2017, 4, 6, 0, 0): {'Date': '2017-04-06', 'Open': 40.96, 'High': 41.25, 'Low': 40.83, 'Close': 41.05, 'Change': None, 'Traded Volume': 96794.0, 'Turnover': 3968681.0, 'Last Price of the Day': None, 'Daily Traded Units': None, 'Daily Turnover': None}, datetime.datetime(2017, 4, 5, 0, 0): {'Date': '2017-04-05', 'Open': 41.1, 'High': 41.34, 'Low': 40.79, 'Close': 41.1, 'Change': None, 'Traded Volume': 156005.0, 'Turnover': 6404780.0, 'Last Price of the Day': None, 'Daily Traded Units': None, 'Daily Turnover': None}, datetime.datetime(2017, 4, 4, 0, 0): {'Date': '2017-04-04', 'Open': 39.5, 'High': 40.88, 'Low': 39.48, 'Close': 40.81, 'Change': None, 'Traded Volume': 193156.0, 'Turnover': 7822665.0, 'Last Price of the Day': None, 'Daily Traded Units': None, 'Daily Turnover': None}, datetime.datetime(2017, 4, 3, 0, 0): {'Date': '2017-04-03', 'Open': 40.15, 'High': 40.15, 'Low': 39.54, 'Close': 39.64, 'Change': None, 'Traded Volume': 127973.0, 'Turnover': 5081376.0, 'Last Price of the Day': None, 'Daily Traded Units': None, 'Daily Turnover': None}, datetime.datetime(2017, 3, 31, 0, 0): {'Date': '2017-03-31', 'Open': 39.77, 'High': 40.07, 'Low': 39.42, 'Close': 39.98, 'Change': None, 'Traded Volume': 95382.0, 'Turnover': 3795061.0, 'Last Price of the Day': None, 'Daily Traded Units': None, 'Daily Turnover': None}, datetime.datetime(2017, 3, 30, 0, 0): {'Date': '2017-03-30', 'Open': 40.02, 'High': 40.14, 'Low': 39.42, 'Close': 39.75, 'Change': None, 'Traded Volume': 189201.0, 'Turnover': 7541354.0, 'Last Price of the Day': None, 'Daily Traded Units': None, 'Daily Turnover': None}, datetime.datetime(2017, 3, 29, 0, 0): {'Date': '2017-03-29', 'Open': 39.39, 'High': 40.01, 'Low': 39.05, 'Close': 40.01, 'Change': None, 'Traded Volume': 335406.0, 'Turnover': 13349426.0, 'Last Price of the Day': None, 'Daily Traded Units': None, 'Daily Turnover': None}, datetime.datetime(2017, 3, 28, 0, 0): {'Date': '2017-03-28', 'Open': 38.95, 'High': 39.35, 'Low': 38.79, 'Close': 39.22, 'Change': None, 'Traded Volume': 115075.0, 'Turnover': 4505494.0, 'Last Price of the Day': None, 'Daily Traded Units': None, 'Daily Turnover': None}, datetime.datetime(2017, 3, 27, 0, 0): {'Date': '2017-03-27', 'Open': 38.73, 'High': 39.1, 'Low': 38.53, 'Close': 38.85, 'Change': None, 'Traded Volume': 191515.0, 'Turnover': 7446952.0, 'Last Price of the Day': None, 'Daily Traded Units': None, 'Daily Turnover': None}, datetime.datetime(2017, 3, 24, 0, 0): {'Date': '2017-03-24', 'Open': 38.94, 'High': 39.02, 'Low': 38.6, 'Close': 38.94, 'Change': None, 'Traded Volume': 210926.0, 'Turnover': 8205507.0, 'Last Price of the Day': None, 'Daily Traded Units': None, 'Daily Turnover': None}, datetime.datetime(2017, 3, 23, 0, 0): {'Date': '2017-03-23', 'Open': 39.01, 'High': 39.25, 'Low': 38.63, 'Close': 38.96, 'Change': None, 'Traded Volume': 169971.0, 'Turnover': 6621807.0, 'Last Price of the Day': None, 'Daily Traded Units': None, 'Daily Turnover': None}, datetime.datetime(2017, 3, 22, 0, 0): {'Date': '2017-03-22', 'Open': 38.25, 'High': 39.02, 'Low': 37.53, 'Close': 38.94, 'Change': None, 'Traded Volume': 670349.0, 'Turnover': 25910543.0, 'Last Price of the Day': None, 'Daily Traded Units': None, 'Daily Turnover': None}, datetime.datetime(2017, 3, 21, 0, 0): {'Date': '2017-03-21', 'Open': 41.8, 'High': 41.83, 'Low': 40.97, 'Close': 40.98, 'Change': None, 'Traded Volume': 56906.0, 'Turnover': 2349965.0, 'Last Price of the Day': None, 'Daily Traded Units': None, 'Daily Turnover': None}, datetime.datetime(2017, 3, 20, 0, 0): {'Date': '2017-03-20', 'Open': 41.26, 'High': 42.17, 'Low': 41.26, 'Close': 41.97, 'Change': None, 'Traded Volume': 97572.0, 'Turnover': 4074891.0, 'Last Price of the Day': None, 'Daily Traded Units': None, 'Daily Turnover': None}, datetime.datetime(2017, 3, 17, 0, 0): {'Date': '2017-03-17', 'Open': 41.47, 'High': 41.59, 'Low': 41.16, 'Close': 41.34, 'Change': None, 'Traded Volume': 90109.0, 'Turnover': 3734232.0, 'Last Price of the Day': None, 'Daily Traded Units': None, 'Daily Turnover': None}, datetime.datetime(2017, 3, 16, 0, 0): {'Date': '2017-03-16', 'Open': 41.4, 'High': 41.57, 'Low': 41.09, 'Close': 41.46, 'Change': None, 'Traded Volume': 55799.0, 'Turnover': 2308423.0, 'Last Price of the Day': None, 'Daily Traded Units': None, 'Daily Turnover': None}, datetime.datetime(2017, 3, 15, 0, 0): {'Date': '2017-03-15', 'Open': 41.4, 'High': 41.5, 'Low': 40.91, 'Close': 41.25, 'Change': None, 'Traded Volume': 60324.0, 'Turnover': 2488650.0, 'Last Price of the Day': None, 'Daily Traded Units': None, 'Daily Turnover': None}, datetime.datetime(2017, 3, 14, 0, 0): {'Date': '2017-03-14', 'Open': 41.2, 'High': 41.5, 'Low': 41.2, 'Close': 41.3, 'Change': None, 'Traded Volume': 60420.0, 'Turnover': 2498025.0, 'Last Price of the Day': None, 'Daily Traded Units': None, 'Daily Turnover': None}, datetime.datetime(2017, 3, 13, 0, 0): {'Date': '2017-03-13', 'Open': 41.4, 'High': 41.46, 'Low': 41.08, 'Close': 41.3, 'Change': None, 'Traded Volume': 44803.0, 'Turnover': 1850251.0, 'Last Price of the Day': None, 'Daily Traded Units': None, 'Daily Turnover': None}, datetime.datetime(2017, 3, 10, 0, 0): {'Date': '2017-03-10', 'Open': 41.53, 'High': 41.53, 'Low': 41.16, 'Close': 41.4, 'Change': None, 'Traded Volume': 38518.0, 'Turnover': 1592270.0, 'Last Price of the Day': None, 'Daily Traded Units': None, 'Daily Turnover': None}, datetime.datetime(2017, 3, 9, 0, 0): {'Date': '2017-03-09', 'Open': 41.61, 'High': 41.61, 'Low': 41.16, 'Close': 41.4, 'Change': None, 'Traded Volume': 43988.0, 'Turnover': 1819182.0, 'Last Price of the Day': None, 'Daily Traded Units': None, 'Daily Turnover': None}, datetime.datetime(2017, 3, 8, 0, 0): {'Date': '2017-03-08', 'Open': 41.13, 'High': 41.71, 'Low': 40.95, 'Close': 41.68, 'Change': None, 'Traded Volume': 45111.0, 'Turnover': 1870935.0, 'Last Price of the Day': None, 'Daily Traded Units': None, 'Daily Turnover': None}, datetime.datetime(2017, 3, 7, 0, 0): {'Date': '2017-03-07', 'Open': 41.5, 'High': 41.8, 'Low': 41.25, 'Close': 41.42, 'Change': None, 'Traded Volume': 61925.0, 'Turnover': 2569608.0, 'Last Price of the Day': None, 'Daily Traded Units': None, 'Daily Turnover': None}, datetime.datetime(2017, 3, 6, 0, 0): {'Date': '2017-03-06', 'Open': 41.25, 'High': 41.4, 'Low': 40.81, 'Close': 41.4, 'Change': None, 'Traded Volume': 46510.0, 'Turnover': 1916799.0, 'Last Price of the Day': None, 'Daily Traded Units': None, 'Daily Turnover': None}, datetime.datetime(2017, 3, 3, 0, 0): {'Date': '2017-03-03', 'Open': 41.12, 'High': 41.22, 'Low': 40.84, 'Close': 41.18, 'Change': None, 'Traded Volume': 40800.0, 'Turnover': 1675587.0, 'Last Price of the Day': None, 'Daily Traded Units': None, 'Daily Turnover': None}, datetime.datetime(2017, 3, 2, 0, 0): {'Date': '2017-03-02', 'Open': 41.38, 'High': 41.39, 'Low': 40.76, 'Close': 41.17, 'Change': None, 'Traded Volume': 49863.0, 'Turnover': 2048153.0, 'Last Price of the Day': None, 'Daily Traded Units': None, 'Daily Turnover': None}, datetime.datetime(2017, 3, 1, 0, 0): {'Date': '2017-03-01', 'Open': 41.19, 'High': 41.57, 'Low': 40.9, 'Close': 41.2, 'Change': None, 'Traded Volume': 86753.0, 'Turnover': 3569796.0, 'Last Price of the Day': None, 'Daily Traded Units': None, 'Daily Turnover': None}, datetime.datetime(2017, 2, 28, 0, 0): {'Date': '2017-02-28', 'Open': 40.38, 'High': 40.95, 'Low': 40.38, 'Close': 40.84, 'Change': None, 'Traded Volume': 67440.0, 'Turnover': 2747011.0, 'Last Price of the Day': None, 'Daily Traded Units': None, 'Daily Turnover': None}, datetime.datetime(2017, 2, 27, 0, 0): {'Date': '2017-02-27', 'Open': 39.75, 'High': 40.64, 'Low': 39.75, 'Close': 40.39, 'Change': None, 'Traded Volume': 62655.0, 'Turnover': 2520260.0, 'Last Price of the Day': None, 'Daily Traded Units': None, 'Daily Turnover': None}, datetime.datetime(2017, 2, 24, 0, 0): {'Date': '2017-02-24', 'Open': 39.77, 'High': 40.14, 'Low': 38.91, 'Close': 39.74, 'Change': None, 'Traded Volume': 101294.0, 'Turnover': 4015150.0, 'Last Price of the Day': None, 'Daily Traded Units': None, 'Daily Turnover': None}, datetime.datetime(2017, 2, 23, 0, 0): {'Date': '2017-02-23', 'Open': 39.72, 'High': 39.98, 'Low': 39.38, 'Close': 39.79, 'Change': None, 'Traded Volume': 81945.0, 'Turnover': 3260642.0, 'Last Price of the Day': None, 'Daily Traded Units': None, 'Daily Turnover': None}, datetime.datetime(2017, 2, 22, 0, 0): {'Date': '2017-02-22', 'Open': 39.6, 'High': 39.75, 'Low': 39.27, 'Close': 39.7, 'Change': None, 'Traded Volume': 77619.0, 'Turnover': 3066894.0, 'Last Price of the Day': None, 'Daily Traded Units': None, 'Daily Turnover': None}, datetime.datetime(2017, 2, 21, 0, 0): {'Date': '2017-02-21', 'Open': 38.85, 'High': 39.57, 'Low': 38.85, 'Close': 39.45, 'Change': None, 'Traded Volume': 46070.0, 'Turnover': 1808350.0, 'Last Price of the Day': None, 'Daily Traded Units': None, 'Daily Turnover': None}, datetime.datetime(2017, 2, 20, 0, 0): {'Date': '2017-02-20', 'Open': 39.25, 'High': 39.25, 'Low': 38.81, 'Close': 38.98, 'Change': None, 'Traded Volume': 37014.0, 'Turnover': 1444138.0, 'Last Price of the Day': None, 'Daily Traded Units': None, 'Daily Turnover': None}, datetime.datetime(2017, 2, 17, 0, 0): {'Date': '2017-02-17', 'Open': 38.8, 'High': 39.03, 'Low': 38.48, 'Close': 39.02, 'Change': None, 'Traded Volume': 60583.0, 'Turnover': 2352961.0, 'Last Price of the Day': None, 'Daily Traded Units': None, 'Daily Turnover': None}, datetime.datetime(2017, 2, 16, 0, 0): {'Date': '2017-02-16', 'Open': 38.8, 'High': 39.2, 'Low': 38.25, 'Close': 38.71, 'Change': None, 'Traded Volume': 84682.0, 'Turnover': 3282322.0, 'Last Price of the Day': None, 'Daily Traded Units': None, 'Daily Turnover': None}, datetime.datetime(2017, 2, 15, 0, 0): {'Date': '2017-02-15', 'Open': 38.5, 'High': 38.93, 'Low': 38.4, 'Close': 38.72, 'Change': None, 'Traded Volume': 77420.0, 'Turnover': 2996861.0, 'Last Price of the Day': None, 'Daily Traded Units': None, 'Daily Turnover': None}, datetime.datetime(2017, 2, 14, 0, 0): {'Date': '2017-02-14', 'Open': 38.81, 'High': 38.86, 'Low': 38.0, 'Close': 38.37, 'Change': None, 'Traded Volume': 82601.0, 'Turnover': 3163898.0, 'Last Price of the Day': None, 'Daily Traded Units': None, 'Daily Turnover': None}, datetime.datetime(2017, 2, 13, 0, 0): {'Date': '2017-02-13', 'Open': 37.37, 'High': 39.36, 'Low': 37.35, 'Close': 38.53, 'Change': None, 'Traded Volume': 177171.0, 'Turnover': 6804028.0, 'Last Price of the Day': None, 'Daily Traded Units': None, 'Daily Turnover': None}, datetime.datetime(2017, 2, 10, 0, 0): {'Date': '2017-02-10', 'Open': 36.65, 'High': 37.5, 'Low': 36.57, 'Close': 37.06, 'Change': None, 'Traded Volume': 115843.0, 'Turnover': 4291017.0, 'Last Price of the Day': None, 'Daily Traded Units': None, 'Daily Turnover': None}, datetime.datetime(2017, 2, 9, 0, 0): {'Date': '2017-02-09', 'Open': 36.2, 'High': 36.25, 'Low': 35.77, 'Close': 36.25, 'Change': None, 'Traded Volume': 67781.0, 'Turnover': 2445428.0, 'Last Price of the Day': None, 'Daily Traded Units': None, 'Daily Turnover': None}, datetime.datetime(2017, 2, 8, 0, 0): {'Date': '2017-02-08', 'Open': 35.98, 'High': 36.14, 'Low': 35.84, 'Close': 36.05, 'Change': None, 'Traded Volume': 39731.0, 'Turnover': 1431205.0, 'Last Price of the Day': None, 'Daily Traded Units': None, 'Daily Turnover': None}, datetime.datetime(2017, 2, 7, 0, 0): {'Date': '2017-02-07', 'Open': 35.56, 'High': 36.05, 'Low': 35.36, 'Close': 35.89, 'Change': None, 'Traded Volume': 67410.0, 'Turnover': 2410818.0, 'Last Price of the Day': None, 'Daily Traded Units': None, 'Daily Turnover': None}, datetime.datetime(2017, 2, 6, 0, 0): {'Date': '2017-02-06', 'Open': 36.06, 'High': 36.15, 'Low': 35.6, 'Close': 35.64, 'Change': None, 'Traded Volume': 41911.0, 'Turnover': 1496794.0, 'Last Price of the Day': None, 'Daily Traded Units': None, 'Daily Turnover': None}, datetime.datetime(2017, 2, 3, 0, 0): {'Date': '2017-02-03', 'Open': 36.02, 'High': 36.2, 'Low': 35.73, 'Close': 36.1, 'Change': None, 'Traded Volume': 40705.0, 'Turnover': 1464712.0, 'Last Price of the Day': None, 'Daily Traded Units': None, 'Daily Turnover': None}, datetime.datetime(2017, 2, 2, 0, 0): {'Date': '2017-02-02', 'Open': 35.95, 'High': 36.2, 'Low': 35.7, 'Close': 36.07, 'Change': None, 'Traded Volume': 54279.0, 'Turnover': 1953176.0, 'Last Price of the Day': None, 'Daily Traded Units': None, 'Daily Turnover': None}, datetime.datetime(2017, 2, 1, 0, 0): {'Date': '2017-02-01', 'Open': 34.75, 'High': 36.0, 'Low': 34.75, 'Close': 35.94, 'Change': None, 'Traded Volume': 85137.0, 'Turnover': 3038172.0, 'Last Price of the Day': None, 'Daily Traded Units': None, 'Daily Turnover': None}, datetime.datetime(2017, 1, 31, 0, 0): {'Date': '2017-01-31', 'Open': 35.24, 'High': 35.24, 'Low': 34.56, 'Close': 34.56, 'Change': None, 'Traded Volume': 63371.0, 'Turnover': 2199583.0, 'Last Price of the Day': None, 'Daily Traded Units': None, 'Daily Turnover': None}, datetime.datetime(2017, 1, 30, 0, 0): {'Date': '2017-01-30', 'Open': 35.38, 'High': 35.59, 'Low': 34.95, 'Close': 35.15, 'Change': None, 'Traded Volume': 69603.0, 'Turnover': 2457762.0, 'Last Price of the Day': None, 'Daily Traded Units': None, 'Daily Turnover': None}, datetime.datetime(2017, 1, 27, 0, 0): {'Date': '2017-01-27', 'Open': 34.83, 'High': 35.43, 'Low': 34.81, 'Close': 35.3, 'Change': None, 'Traded Volume': 69657.0, 'Turnover': 2444913.0, 'Last Price of the Day': None, 'Daily Traded Units': None, 'Daily Turnover': None}, datetime.datetime(2017, 1, 26, 0, 0): {'Date': '2017-01-26', 'Open': 35.07, 'High': 35.58, 'Low': 34.8, 'Close': 34.89, 'Change': None, 'Traded Volume': 64103.0, 'Turnover': 2249375.0, 'Last Price of the Day': None, 'Daily Traded Units': None, 'Daily Turnover': None}, datetime.datetime(2017, 1, 25, 0, 0): {'Date': '2017-01-25', 'Open': 34.42, 'High': 34.86, 'Low': 34.03, 'Close': 34.83, 'Change': None, 'Traded Volume': 56240.0, 'Turnover': 1947147.0, 'Last Price of the Day': None, 'Daily Traded Units': None, 'Daily Turnover': None}, datetime.datetime(2017, 1, 24, 0, 0): {'Date': '2017-01-24', 'Open': 34.0, 'High': 34.35, 'Low': 33.85, 'Close': 34.22, 'Change': None, 'Traded Volume': 48797.0, 'Turnover': 1666086.0, 'Last Price of the Day': None, 'Daily Traded Units': None, 'Daily Turnover': None}, datetime.datetime(2017, 1, 23, 0, 0): {'Date': '2017-01-23', 'Open': 34.04, 'High': 34.12, 'Low': 33.62, 'Close': 34.06, 'Change': None, 'Traded Volume': 55333.0, 'Turnover': 1877957.0, 'Last Price of the Day': None, 'Daily Traded Units': None, 'Daily Turnover': None}, datetime.datetime(2017, 1, 20, 0, 0): {'Date': '2017-01-20', 'Open': 34.54, 'High': 34.59, 'Low': 34.05, 'Close': 34.17, 'Change': None, 'Traded Volume': 80246.0, 'Turnover': 2743474.0, 'Last Price of the Day': None, 'Daily Traded Units': None, 'Daily Turnover': None}, datetime.datetime(2017, 1, 19, 0, 0): {'Date': '2017-01-19', 'Open': 35.04, 'High': 35.04, 'Low': 34.42, 'Close': 34.5, 'Change': None, 'Traded Volume': 73105.0, 'Turnover': 2526731.0, 'Last Price of the Day': None, 'Daily Traded Units': None, 'Daily Turnover': None}, datetime.datetime(2017, 1, 18, 0, 0): {'Date': '2017-01-18', 'Open': 35.04, 'High': 35.51, 'Low': 34.8, 'Close': 34.9, 'Change': None, 'Traded Volume': 65931.0, 'Turnover': 2311608.0, 'Last Price of the Day': None, 'Daily Traded Units': None, 'Daily Turnover': None}, datetime.datetime(2017, 1, 17, 0, 0): {'Date': '2017-01-17', 'Open': 35.06, 'High': 35.19, 'Low': 34.79, 'Close': 34.99, 'Change': None, 'Traded Volume': 39195.0, 'Turnover': 1369857.0, 'Last Price of the Day': None, 'Daily Traded Units': None, 'Daily Turnover': None}, datetime.datetime(2017, 1, 16, 0, 0): {'Date': '2017-01-16', 'Open': 34.85, 'High': 35.24, 'Low': 34.56, 'Close': 35.07, 'Change': None, 'Traded Volume': 47879.0, 'Turnover': 1678679.0, 'Last Price of the Day': None, 'Daily Traded Units': None, 'Daily Turnover': None}, datetime.datetime(2017, 1, 13, 0, 0): {'Date': '2017-01-13', 'Open': 34.98, 'High': 34.98, 'Low': 34.6, 'Close': 34.85, 'Change': None, 'Traded Volume': 59367.0, 'Turnover': 2065534.0, 'Last Price of the Day': None, 'Daily Traded Units': None, 'Daily Turnover': None}, datetime.datetime(2017, 1, 12, 0, 0): {'Date': '2017-01-12', 'Open': 35.38, 'High': 35.38, 'Low': 34.31, 'Close': 34.9, 'Change': None, 'Traded Volume': 163860.0, 'Turnover': 5703427.0, 'Last Price of the Day': None, 'Daily Traded Units': None, 'Daily Turnover': None}, datetime.datetime(2017, 1, 11, 0, 0): {'Date': '2017-01-11', 'Open': 34.95, 'High': 36.0, 'Low': 34.84, 'Close': 35.42, 'Change': None, 'Traded Volume': 123530.0, 'Turnover': 4369079.0, 'Last Price of the Day': None, 'Daily Traded Units': None, 'Daily Turnover': None}, datetime.datetime(2017, 1, 10, 0, 0): {'Date': '2017-01-10', 'Open': 34.8, 'High': 34.98, 'Low': 34.46, 'Close': 34.91, 'Change': None, 'Traded Volume': 43976.0, 'Turnover': 1528055.0, 'Last Price of the Day': None, 'Daily Traded Units': None, 'Daily Turnover': None}, datetime.datetime(2017, 1, 9, 0, 0): {'Date': '2017-01-09', 'Open': 35.29, 'High': 35.35, 'Low': 34.43, 'Close': 34.67, 'Change': None, 'Traded Volume': 62225.0, 'Turnover': 2157182.0, 'Last Price of the Day': None, 'Daily Traded Units': None, 'Daily Turnover': None}, datetime.datetime(2017, 1, 6, 0, 0): {'Date': '2017-01-06', 'Open': 34.91, 'High': 35.21, 'Low': 34.91, 'Close': 35.04, 'Change': None, 'Traded Volume': 27507.0, 'Turnover': 964046.0, 'Last Price of the Day': None, 'Daily Traded Units': None, 'Daily Turnover': None}, datetime.datetime(2017, 1, 5, 0, 0): {'Date': '2017-01-05', 'Open': 35.02, 'High': 35.2, 'Low': 34.73, 'Close': 35.06, 'Change': None, 'Traded Volume': 48412.0, 'Turnover': 1692326.0, 'Last Price of the Day': None, 'Daily Traded Units': None, 'Daily Turnover': None}, datetime.datetime(2017, 1, 4, 0, 0): {'Date': '2017-01-04', 'Open': 35.48, 'High': 35.51, 'Low': 34.75, 'Close': 35.19, 'Change': None, 'Traded Volume': 54408.0, 'Turnover': 1906810.0, 'Last Price of the Day': None, 'Daily Traded Units': None, 'Daily Turnover': None}, datetime.datetime(2017, 1, 3, 0, 0): {'Date': '2017-01-03', 'Open': 35.9, 'High': 35.93, 'Low': 35.34, 'Close': 35.48, 'Change': None, 'Traded Volume': 70618.0, 'Turnover': 2515473.0, 'Last Price of the Day': None, 'Daily Traded Units': None, 'Daily Turnover': None}, datetime.datetime(2017, 1, 2, 0, 0): {'Date': '2017-01-02', 'Open': 34.99, 'High': 35.94, 'Low': 34.99, 'Close': 35.8, 'Change': None, 'Traded Volume': 44700.0, 'Turnover': 1590561.0, 'Last Price of the Day': None, 'Daily Traded Units': None, 'Daily Turnover': None}})\n"
     ]
    }
   ],
   "source": [
    "data = defaultdict(datetime)\n",
    "for row in d:\n",
    "    row_dict = {}\n",
    "    i = 0\n",
    "    for col in headers:\n",
    "        row_dict[col] = row[i]\n",
    "        i += 1\n",
    "    date = datetime.strptime(row_dict['Date'], '%Y-%m-%d')\n",
    "    data[date] = row_dict\n",
    "print(data)"
   ]
  },
  {
   "cell_type": "code",
   "execution_count": 10,
   "metadata": {},
   "outputs": [
    {
     "output_type": "stream",
     "name": "stdout",
     "text": [
      "2017-05-01 00:00:00\n2017-04-17 00:00:00\n2017-04-14 00:00:00\n"
     ]
    }
   ],
   "source": [
    "# There is some missing data we will have to deal with\n",
    "dates_to_skip = []\n",
    "for date in data:\n",
    "    if data[date]['Open'] == None:\n",
    "        dates_to_skip.append(date)\n",
    "        print(date)"
   ]
  },
  {
   "cell_type": "code",
   "execution_count": 11,
   "metadata": {},
   "outputs": [
    {
     "output_type": "stream",
     "name": "stdout",
     "text": [
      "Highest opening price: $ 53.11  on  2017-12-14 00:00:00\nLowest opening price: $ 34.0  on  2017-01-24 00:00:00\n"
     ]
    }
   ],
   "source": [
    "# TASK 3\n",
    "max_open = 0\n",
    "max_open_date = datetime(2017, 1, 1)\n",
    "min_open = 10000000\n",
    "min_open_date = datetime(2017, 1, 1)\n",
    "for key in data:\n",
    "    if key in dates_to_skip:\n",
    "        pass\n",
    "    elif data[key]['Open'] == 0:\n",
    "        pass\n",
    "    elif data[key]['Open'] > max_open:\n",
    "        max_open = data[key]['Open']\n",
    "        max_open_date = key\n",
    "    elif data[key]['Open'] < min_open:\n",
    "        min_open = data[key]['Open']\n",
    "        min_open_date = key\n",
    "print('Highest opening price: $', max_open, ' on ', str(max_open_date))\n",
    "print('Lowest opening price: $', min_open, ' on ', str(min_open_date))"
   ]
  },
  {
   "cell_type": "code",
   "execution_count": 12,
   "metadata": {},
   "outputs": [],
   "source": [
    "dates_to_skip = []\n",
    "for date in data:\n",
    "    if data[date]['High'] == None or data[date]['Low'] == None:\n",
    "        dates_to_skip.append(date)\n",
    "        print(date)"
   ]
  },
  {
   "cell_type": "code",
   "execution_count": 13,
   "metadata": {},
   "outputs": [
    {
     "output_type": "stream",
     "name": "stdout",
     "text": [
      "Biggest change: $ 2.81 on 2017-05-11 00:00:00\n"
     ]
    }
   ],
   "source": [
    "# TASK 4: What was the largest change in any one day (based on High and Low price)?\n",
    "max_change = 0\n",
    "max_change_date = datetime(2017, 1, 1)\n",
    "for key in data:\n",
    "    if key in dates_to_skip:\n",
    "        pass\n",
    "    else:\n",
    "        change = abs(data[key]['High'] - data[key]['Low'])\n",
    "        if change > max_change:\n",
    "            max_change = change\n",
    "            max_change_date = key\n",
    "print('Biggest change: $', round(max_change, 2), 'on', max_change_date)"
   ]
  },
  {
   "cell_type": "code",
   "execution_count": 14,
   "metadata": {},
   "outputs": [],
   "source": [
    "dates_to_skip = []\n",
    "for date in data:\n",
    "    if data[date]['Close'] == None:\n",
    "        dates_to_skip.append(date)\n",
    "        print(date)"
   ]
  },
  {
   "cell_type": "code",
   "execution_count": 15,
   "metadata": {},
   "outputs": [],
   "source": [
    "import numpy as np"
   ]
  },
  {
   "cell_type": "code",
   "execution_count": 16,
   "metadata": {},
   "outputs": [
    {
     "output_type": "stream",
     "name": "stdout",
     "text": [
      "Biggest change: $ 2.56 from 2017-08-09 00:00:00 to 2017-08-07 00:00:00\n"
     ]
    }
   ],
   "source": [
    "# TASK 5: What was the largest change between any two days (based on Closing Price)?\n",
    "closing = []\n",
    "dates = []\n",
    "for key in data:\n",
    "    if key in dates_to_skip:\n",
    "        pass\n",
    "    else:\n",
    "        closing.append(data[key]['Close'])\n",
    "        dates.append(key)\n",
    "\n",
    "# List slicing\n",
    "cls1 = np.array(closing[:-1])\n",
    "cls2 = np.array(closing[1:])\n",
    "dt1 = dates[:-1]\n",
    "dt2 = dates[1:]\n",
    "\n",
    "# Element-wise difference\n",
    "cls_diff = abs(cls2 - cls1)\n",
    "\n",
    "# Find the max change, the index of that will be analogous to cls1, index in cls2 will be 1 more\n",
    "max_change = max(cls_diff)\n",
    "max_change_index = np.argmax(cls_diff)\n",
    "\n",
    "day1 = dt1[max_change_index]\n",
    "day2 = dt2[max_change_index + 1]\n",
    "\n",
    "print('Biggest change: $', round(max_change, 2), 'from', day1, 'to', day2)"
   ]
  },
  {
   "cell_type": "code",
   "execution_count": 17,
   "metadata": {},
   "outputs": [
    {
     "output_type": "stream",
     "name": "stdout",
     "text": [
      "Average daily trading volume: 89124.337\n"
     ]
    }
   ],
   "source": [
    "# TASK 6: What was the average daily trading volume during this year?\n",
    "sum_vol = 0\n",
    "for key in data:\n",
    "    sum_vol += data[key]['Traded Volume']\n",
    "print('Average daily trading volume:', round(sum_vol/len(data), 3))"
   ]
  },
  {
   "cell_type": "code",
   "execution_count": 19,
   "metadata": {},
   "outputs": [
    {
     "output_type": "stream",
     "name": "stdout",
     "text": [
      "Median trading volume: 76286.0\n"
     ]
    }
   ],
   "source": [
    "# TASK 7: (Optional) What was the median trading volume during this year. (Note: you may need to implement your own function for calculating the median.)\n",
    "# Make an array of the trading volumnes\n",
    "volumes = [data[key]['Traded Volume'] for key in data]\n",
    "# Take the np.median\n",
    "median = np.median(volumes)\n",
    "print(\"Median trading volume:\",median)"
   ]
  },
  {
   "cell_type": "code",
   "execution_count": null,
   "metadata": {},
   "outputs": [],
   "source": []
  }
 ],
 "metadata": {
  "kernelspec": {
   "name": "python3",
   "display_name": "Python 3.7.2 64-bit",
   "metadata": {
    "interpreter": {
     "hash": "df955ce39d0f31d56d4bb2fe0a613e5326ba60723fd33d8303a3aede8f65715c"
    }
   }
  },
  "language_info": {
   "codemirror_mode": {
    "name": "ipython",
    "version": 2
   },
   "file_extension": ".py",
   "mimetype": "text/x-python",
   "name": "python",
   "nbconvert_exporter": "python",
   "pygments_lexer": "ipython2",
   "version": "3.7.2-final"
  }
 },
 "nbformat": 4,
 "nbformat_minor": 2
}